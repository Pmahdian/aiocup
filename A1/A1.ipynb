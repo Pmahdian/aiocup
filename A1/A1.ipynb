{
 "cells": [
  {
   "cell_type": "code",
   "execution_count": 1,
   "metadata": {},
   "outputs": [],
   "source": [
    "def getnum(l=1, h=20, s='Number:'):\n",
    "    while True:\n",
    "        try:\n",
    "            n = float(input(str(s)))\n",
    "            if n >= l and n <= h:\n",
    "                return n\n",
    "            else:\n",
    "                print('not in range!')\n",
    "        except:\n",
    "            print('Try again')"
   ]
  },
  {
   "cell_type": "code",
   "execution_count": 31,
   "metadata": {},
   "outputs": [],
   "source": [
    "grades = []\n",
    "for i in range(3):\n",
    "    a = getnum(1,20,str(i+1)+'- Enter your score')\n",
    "    grades += [a]"
   ]
  },
  {
   "cell_type": "code",
   "execution_count": 32,
   "metadata": {},
   "outputs": [],
   "source": [
    "b = 0\n",
    "for i in grades:\n",
    "    b += i\n"
   ]
  },
  {
   "cell_type": "code",
   "execution_count": 39,
   "metadata": {},
   "outputs": [
    {
     "name": "stdout",
     "output_type": "stream",
     "text": [
      "You must get a total of 37 points in the next two exams to get an average of 18.5\n"
     ]
    }
   ],
   "source": [
    "f = 0\n",
    "tst= 0\n",
    "for i in range(40):\n",
    "    f = b + i\n",
    "    if f/5 >= 18.5:\n",
    "        g = i - 20\n",
    "        print('You must get a total of {} points in the next two exams to get an average of 18.5'.format(g))\n",
    "        tst += 1\n",
    "        break\n"
   ]
  },
  {
   "cell_type": "code",
   "execution_count": 40,
   "metadata": {},
   "outputs": [],
   "source": [
    "if tst == 0:\n",
    "    print('You have to try harder!')"
   ]
  }
 ],
 "metadata": {
  "kernelspec": {
   "display_name": "Python 3",
   "language": "python",
   "name": "python3"
  },
  "language_info": {
   "codemirror_mode": {
    "name": "ipython",
    "version": 3
   },
   "file_extension": ".py",
   "mimetype": "text/x-python",
   "name": "python",
   "nbconvert_exporter": "python",
   "pygments_lexer": "ipython3",
   "version": "3.11.5"
  }
 },
 "nbformat": 4,
 "nbformat_minor": 2
}
