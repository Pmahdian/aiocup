{
 "cells": [
  {
   "cell_type": "code",
   "execution_count": 6,
   "metadata": {},
   "outputs": [],
   "source": [
    "def getnum(l=1, h=20, s='Number:'):\n",
    "    while True:\n",
    "        try:\n",
    "            n = float(input(str(s)))\n",
    "            if n >= l and n <= h:\n",
    "                return n\n",
    "            else:\n",
    "                print('not in range!')\n",
    "        except:\n",
    "            print('Try again')"
   ]
  },
  {
   "cell_type": "code",
   "execution_count": 16,
   "metadata": {},
   "outputs": [],
   "source": [
    "grades = []\n",
    "for i in range(3):\n",
    "    a = getnum(1,20,str(i+1)+'- Enter your score')\n",
    "    grades += [a]"
   ]
  },
  {
   "cell_type": "code",
   "execution_count": 18,
   "metadata": {},
   "outputs": [],
   "source": [
    "b = 0\n",
    "for i in grades:\n",
    "    b += i\n",
    "\n",
    "av_3= b/3"
   ]
  },
  {
   "cell_type": "code",
   "execution_count": null,
   "metadata": {},
   "outputs": [],
   "source": []
  }
 ],
 "metadata": {
  "kernelspec": {
   "display_name": "Python 3",
   "language": "python",
   "name": "python3"
  },
  "language_info": {
   "codemirror_mode": {
    "name": "ipython",
    "version": 3
   },
   "file_extension": ".py",
   "mimetype": "text/x-python",
   "name": "python",
   "nbconvert_exporter": "python",
   "pygments_lexer": "ipython3",
   "version": "3.11.5"
  }
 },
 "nbformat": 4,
 "nbformat_minor": 2
}
